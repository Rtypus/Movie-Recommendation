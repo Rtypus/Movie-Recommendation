{
 "cells": [
  {
   "cell_type": "code",
   "execution_count": 1,
   "metadata": {},
   "outputs": [],
   "source": [
    "from requests import get\n",
    "from bs4 import BeautifulSoup\n",
    "from warnings import warn\n",
    "from time import sleep\n",
    "from random import randint\n",
    "import numpy as np\n",
    "import pandas as pd\n",
    "import seaborn as sns\n"
   ]
  },
  {
   "cell_type": "code",
   "execution_count": 22,
   "metadata": {},
   "outputs": [],
   "source": [
    "titles = []\n",
    "years = []\n",
    "ratings = []\n",
    "genres = []\n",
    "runtimes = []\n",
    "imdb_ratings = []\n",
    "imdb_ratings_standardized = []\n",
    "text_muted = []\n",
    "director = []\n",
    "stars = []\n",
    "metascores = []\n",
    "votes = []\n"
   ]
  },
  {
   "cell_type": "code",
   "execution_count": 12,
   "metadata": {},
   "outputs": [
    {
     "name": "stdout",
     "output_type": "stream",
     "text": [
      "[   1  251  501  751 1001 1251 1501 1751 2001 2251 2501 2751 3001 3251\n",
      " 3501 3751 4001 4251 4501 4751 5001 5251 5501 5751 6001 6251 6501 6751\n",
      " 7001 7251 7501 7751 8001 8251 8501 8751 9001 9251 9501 9751]\n"
     ]
    }
   ],
   "source": [
    "pages = np.arange(1, 9900, 250)\n",
    "print(pages)\n"
   ]
  },
  {
   "cell_type": "code",
   "execution_count": 27,
   "metadata": {},
   "outputs": [],
   "source": [
    "# for pages in np.arange(1,9900, 250):\n",
    "for pages in [1]:\n",
    "\n",
    "    if pages == 1:\n",
    "        response = get(\n",
    "            'https://www.imdb.com/search/title/?title_type=feature&num_votes=7500,&languages=en&sort=user_rating,desc&count=250&ref_=adv_prv')\n",
    "    else:\n",
    "        response = get(\n",
    "            'https://www.imdb.com/search/title/?title_type=feature&num_votes=7500,&languages=en&sort=user_rating,desc&count=250&start='+str(pages)+'&ref_=adv_nxt')\n",
    "    sleep(randint(8, 15))\n",
    "    if response.status_code != 200:\n",
    "        warn('Request: {}; Status code: {}'.format(\n",
    "            requests, response.status_code))\n",
    "    page_html = BeautifulSoup(response.text, 'html.parser')\n",
    "\n",
    "    movie_containers = page_html.find_all(\n",
    "        'div', class_='lister-item mode-advanced')\n",
    "    for container in movie_containers:\n",
    "        if container.find('div', class_='item-content') is not None:\n",
    "            print('yes')\n",
    "\n",
    "             # title\n",
    "            title = container.h3.a.text\n",
    "            titles.append(title)\n",
    "\n",
    "            if container.h3.find('span', class_='lister-item-year text-muted unbold') is not None:\n",
    "\n",
    "                    # year released\n",
    "                    # remove the parentheses around the year and make it an integer\n",
    "                    year = container.h3.find(\n",
    "                        'span', class_='lister-item-year text-muted unbold').text\n",
    "                    years.append(year)\n",
    "\n",
    "              else:\n",
    "                    # each of the additional if clauses are to handle type None data, replacing it with an empty string so the arrays are of the same length at the end of the scraping\n",
    "                    years.append(None)\n",
    "\n",
    "                if container.p.find('span', class_='certificate') is not None:\n",
    "\n",
    "                    # rating\n",
    "                    rating = container.p.find(\n",
    "                        'span', class_='certificate').text\n",
    "                    ratings.append(rating)\n",
    "\n",
    "                else:\n",
    "                    ratings.append(\"\")\n",
    "\n",
    "                if container.p.find('span', class_='genre') is not None:\n",
    "\n",
    "                    # genre\n",
    "                    genre = container.p.find('span', class_='genre').text.replace(\"\\n\", \"\").rstrip().split(',')  # remove the whitespace character, strip, and split to create an array of genres\n",
    "                    genres.append(genre)\n",
    "\n",
    "                else:\n",
    "                    genres.append(\"\")\n",
    "\n",
    "                if container.p.find('span', class_='runtime') is not None:\n",
    "\n",
    "                    # runtime\n",
    "                    time = int(container.p.find('span', class_='runtime').text.replace(\" min\", \"\"))  # remove the minute word from the runtime and make it an integer\n",
    "                    runtimes.append(time)\n",
    "\n",
    "                else:\n",
    "                    runtimes.append(None)\n",
    "\n",
    "                if float(container.strong.text) is not None:\n",
    "\n",
    "                    # IMDB ratings\n",
    "                    # non-standardized variable\n",
    "                    imdb = float(container.strong.text)\n",
    "                    imdb_ratings.append(imdb)\n",
    "\n",
    "                else:\n",
    "                    imdb_ratings.append(None)\n",
    "\n",
    "                if container.find('span', class_='metascore').text is not None:\n",
    "\n",
    "                    # Metascore\n",
    "                    m_score = int(container.find('span', class_='metascore').text)  # make it an integer\n",
    "                    metascores.append(m_score)\n",
    "\n",
    "                else:\n",
    "                    metascores.append(None)\n",
    "\n",
    "                if container.find('span', attrs={'name': 'nv'})['data-value'] is not None:\n",
    "\n",
    "                    # Number of votes\n",
    "                    vote = int(container.find('span', attrs={'name': 'nv'})['data-value'])\n",
    "                    votes.append(vote)\n",
    "\n",
    "                else:\n",
    "                    votes.append(None)\n"
   ]
  },
  {
   "cell_type": "code",
   "execution_count": 28,
   "metadata": {},
   "outputs": [
    {
     "ename": "AttributeError",
     "evalue": "Can only use .str accessor with string values!",
     "output_type": "error",
     "traceback": [
      "\u001b[1;31m---------------------------------------------------------------------------\u001b[0m",
      "\u001b[1;31mAttributeError\u001b[0m                            Traceback (most recent call last)",
      "Cell \u001b[1;32mIn [28], line 11\u001b[0m\n\u001b[0;32m      1\u001b[0m sci_fi_df \u001b[38;5;241m=\u001b[39m pd\u001b[38;5;241m.\u001b[39mDataFrame({\u001b[38;5;124m'\u001b[39m\u001b[38;5;124mmovie\u001b[39m\u001b[38;5;124m'\u001b[39m: titles,\n\u001b[0;32m      2\u001b[0m                       \u001b[38;5;124m'\u001b[39m\u001b[38;5;124myear\u001b[39m\u001b[38;5;124m'\u001b[39m: years,\n\u001b[0;32m      3\u001b[0m                       \u001b[38;5;124m'\u001b[39m\u001b[38;5;124mrating\u001b[39m\u001b[38;5;124m'\u001b[39m: ratings,\n\u001b[1;32m   (...)\u001b[0m\n\u001b[0;32m      8\u001b[0m                       \u001b[38;5;124m'\u001b[39m\u001b[38;5;124mvotes\u001b[39m\u001b[38;5;124m'\u001b[39m: votes}\n\u001b[0;32m      9\u001b[0m                       )\n\u001b[1;32m---> 11\u001b[0m sci_fi_df\u001b[38;5;241m.\u001b[39mloc[:, \u001b[38;5;124m'\u001b[39m\u001b[38;5;124myear\u001b[39m\u001b[38;5;124m'\u001b[39m] \u001b[38;5;241m=\u001b[39m sci_fi_df[\u001b[38;5;124m'\u001b[39m\u001b[38;5;124myear\u001b[39m\u001b[38;5;124m'\u001b[39m]\u001b[38;5;241m.\u001b[39mstr[\u001b[38;5;241m-\u001b[39m\u001b[38;5;241m5\u001b[39m:\u001b[38;5;241m-\u001b[39m\u001b[38;5;241m1\u001b[39m] \u001b[38;5;66;03m# two more data transformations after scraping\u001b[39;00m\n\u001b[0;32m     12\u001b[0m \u001b[38;5;66;03m# Drop 'ovie' bug\u001b[39;00m\n\u001b[0;32m     13\u001b[0m \u001b[38;5;66;03m# Make year an int\u001b[39;00m\n\u001b[0;32m     14\u001b[0m sci_fi_df[\u001b[38;5;124m'\u001b[39m\u001b[38;5;124mn_imdb\u001b[39m\u001b[38;5;124m'\u001b[39m] \u001b[38;5;241m=\u001b[39m sci_fi_df[\u001b[38;5;124m'\u001b[39m\u001b[38;5;124mimdb\u001b[39m\u001b[38;5;124m'\u001b[39m] \u001b[38;5;241m*\u001b[39m \u001b[38;5;241m10\u001b[39m\n",
      "File \u001b[1;32mc:\\Users\\putth\\miniconda3\\lib\\site-packages\\pandas\\core\\generic.py:5907\u001b[0m, in \u001b[0;36mNDFrame.__getattr__\u001b[1;34m(self, name)\u001b[0m\n\u001b[0;32m   5900\u001b[0m \u001b[39mif\u001b[39;00m (\n\u001b[0;32m   5901\u001b[0m     name \u001b[39mnot\u001b[39;00m \u001b[39min\u001b[39;00m \u001b[39mself\u001b[39m\u001b[39m.\u001b[39m_internal_names_set\n\u001b[0;32m   5902\u001b[0m     \u001b[39mand\u001b[39;00m name \u001b[39mnot\u001b[39;00m \u001b[39min\u001b[39;00m \u001b[39mself\u001b[39m\u001b[39m.\u001b[39m_metadata\n\u001b[0;32m   5903\u001b[0m     \u001b[39mand\u001b[39;00m name \u001b[39mnot\u001b[39;00m \u001b[39min\u001b[39;00m \u001b[39mself\u001b[39m\u001b[39m.\u001b[39m_accessors\n\u001b[0;32m   5904\u001b[0m     \u001b[39mand\u001b[39;00m \u001b[39mself\u001b[39m\u001b[39m.\u001b[39m_info_axis\u001b[39m.\u001b[39m_can_hold_identifiers_and_holds_name(name)\n\u001b[0;32m   5905\u001b[0m ):\n\u001b[0;32m   5906\u001b[0m     \u001b[39mreturn\u001b[39;00m \u001b[39mself\u001b[39m[name]\n\u001b[1;32m-> 5907\u001b[0m \u001b[39mreturn\u001b[39;00m \u001b[39mobject\u001b[39;49m\u001b[39m.\u001b[39;49m\u001b[39m__getattribute__\u001b[39;49m(\u001b[39mself\u001b[39;49m, name)\n",
      "File \u001b[1;32mc:\\Users\\putth\\miniconda3\\lib\\site-packages\\pandas\\core\\accessor.py:183\u001b[0m, in \u001b[0;36mCachedAccessor.__get__\u001b[1;34m(self, obj, cls)\u001b[0m\n\u001b[0;32m    180\u001b[0m \u001b[39mif\u001b[39;00m obj \u001b[39mis\u001b[39;00m \u001b[39mNone\u001b[39;00m:\n\u001b[0;32m    181\u001b[0m     \u001b[39m# we're accessing the attribute of the class, i.e., Dataset.geo\u001b[39;00m\n\u001b[0;32m    182\u001b[0m     \u001b[39mreturn\u001b[39;00m \u001b[39mself\u001b[39m\u001b[39m.\u001b[39m_accessor\n\u001b[1;32m--> 183\u001b[0m accessor_obj \u001b[39m=\u001b[39m \u001b[39mself\u001b[39;49m\u001b[39m.\u001b[39;49m_accessor(obj)\n\u001b[0;32m    184\u001b[0m \u001b[39m# Replace the property with the accessor object. Inspired by:\u001b[39;00m\n\u001b[0;32m    185\u001b[0m \u001b[39m# https://www.pydanny.com/cached-property.html\u001b[39;00m\n\u001b[0;32m    186\u001b[0m \u001b[39m# We need to use object.__setattr__ because we overwrite __setattr__ on\u001b[39;00m\n\u001b[0;32m    187\u001b[0m \u001b[39m# NDFrame\u001b[39;00m\n\u001b[0;32m    188\u001b[0m \u001b[39mobject\u001b[39m\u001b[39m.\u001b[39m\u001b[39m__setattr__\u001b[39m(obj, \u001b[39mself\u001b[39m\u001b[39m.\u001b[39m_name, accessor_obj)\n",
      "File \u001b[1;32mc:\\Users\\putth\\miniconda3\\lib\\site-packages\\pandas\\core\\strings\\accessor.py:182\u001b[0m, in \u001b[0;36mStringMethods.__init__\u001b[1;34m(self, data)\u001b[0m\n\u001b[0;32m    179\u001b[0m \u001b[39mdef\u001b[39;00m \u001b[39m__init__\u001b[39m(\u001b[39mself\u001b[39m, data) \u001b[39m-\u001b[39m\u001b[39m>\u001b[39m \u001b[39mNone\u001b[39;00m:\n\u001b[0;32m    180\u001b[0m     \u001b[39mfrom\u001b[39;00m \u001b[39mpandas\u001b[39;00m\u001b[39m.\u001b[39;00m\u001b[39mcore\u001b[39;00m\u001b[39m.\u001b[39;00m\u001b[39marrays\u001b[39;00m\u001b[39m.\u001b[39;00m\u001b[39mstring_\u001b[39;00m \u001b[39mimport\u001b[39;00m StringDtype\n\u001b[1;32m--> 182\u001b[0m     \u001b[39mself\u001b[39m\u001b[39m.\u001b[39m_inferred_dtype \u001b[39m=\u001b[39m \u001b[39mself\u001b[39;49m\u001b[39m.\u001b[39;49m_validate(data)\n\u001b[0;32m    183\u001b[0m     \u001b[39mself\u001b[39m\u001b[39m.\u001b[39m_is_categorical \u001b[39m=\u001b[39m is_categorical_dtype(data\u001b[39m.\u001b[39mdtype)\n\u001b[0;32m    184\u001b[0m     \u001b[39mself\u001b[39m\u001b[39m.\u001b[39m_is_string \u001b[39m=\u001b[39m \u001b[39misinstance\u001b[39m(data\u001b[39m.\u001b[39mdtype, StringDtype)\n",
      "File \u001b[1;32mc:\\Users\\putth\\miniconda3\\lib\\site-packages\\pandas\\core\\strings\\accessor.py:236\u001b[0m, in \u001b[0;36mStringMethods._validate\u001b[1;34m(data)\u001b[0m\n\u001b[0;32m    233\u001b[0m inferred_dtype \u001b[39m=\u001b[39m lib\u001b[39m.\u001b[39minfer_dtype(values, skipna\u001b[39m=\u001b[39m\u001b[39mTrue\u001b[39;00m)\n\u001b[0;32m    235\u001b[0m \u001b[39mif\u001b[39;00m inferred_dtype \u001b[39mnot\u001b[39;00m \u001b[39min\u001b[39;00m allowed_types:\n\u001b[1;32m--> 236\u001b[0m     \u001b[39mraise\u001b[39;00m \u001b[39mAttributeError\u001b[39;00m(\u001b[39m\"\u001b[39m\u001b[39mCan only use .str accessor with string values!\u001b[39m\u001b[39m\"\u001b[39m)\n\u001b[0;32m    237\u001b[0m \u001b[39mreturn\u001b[39;00m inferred_dtype\n",
      "\u001b[1;31mAttributeError\u001b[0m: Can only use .str accessor with string values!"
     ]
    }
   ],
   "source": [
    "sci_fi_df = pd.DataFrame({'movie': titles,\n",
    "                          'year': years,\n",
    "                          'rating': ratings,\n",
    "                          'genre': genres,\n",
    "                          'runtime_min': runtimes,\n",
    "                          'imdb': imdb_ratings,\n",
    "                          'metascore': metascores,\n",
    "                          'votes': votes}\n",
    "                         )\n",
    "\n",
    "# two more data transformations after scraping\n",
    "sci_fi_df.loc[:, 'year'] = sci_fi_df['year'].str[-5:-1]\n",
    "# Drop 'ovie' bug\n",
    "# Make year an int\n",
    "sci_fi_df['n_imdb'] = sci_fi_df['imdb'] * 10\n",
    "# One small issue with the scrape on these two movies so just dropping those ones.\n",
    "final_df = sci_fi_df.loc[sci_fi_df['year'] != 'ovie']\n",
    "final_df.loc[:, 'year'] = pd.to_numeric(final_df['year'])\n",
    "final_df\n"
   ]
  }
 ],
 "metadata": {
  "kernelspec": {
   "display_name": "Python 3.9.12 ('base')",
   "language": "python",
   "name": "python3"
  },
  "language_info": {
   "codemirror_mode": {
    "name": "ipython",
    "version": 3
   },
   "file_extension": ".py",
   "mimetype": "text/x-python",
   "name": "python",
   "nbconvert_exporter": "python",
   "pygments_lexer": "ipython3",
   "version": "3.9.12"
  },
  "orig_nbformat": 4,
  "vscode": {
   "interpreter": {
    "hash": "d95c7c3c96e2345f980ffa6bb30b78b337467ebe8a42f96371c3fb5b55e890c8"
   }
  }
 },
 "nbformat": 4,
 "nbformat_minor": 2
}
